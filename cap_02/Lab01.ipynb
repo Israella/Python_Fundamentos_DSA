{
 "cells": [
  {
   "cell_type": "markdown",
   "id": "786e8216-6e83-43d2-9f93-7568f65fdbb3",
   "metadata": {},
   "source": [
    "Criar uma lista de 1 a 200 que usa somente numeros pares:"
   ]
  },
  {
   "cell_type": "code",
   "execution_count": 7,
   "id": "b439bb82-585f-43e6-82d0-edd4e1102e1a",
   "metadata": {},
   "outputs": [
    {
     "data": {
      "text/plain": [
       "list"
      ]
     },
     "execution_count": 7,
     "metadata": {},
     "output_type": "execute_result"
    }
   ],
   "source": [
    "numeros = list(range (2, 200, 2))\n",
    "type (numeros)"
   ]
  },
  {
   "cell_type": "code",
   "execution_count": 6,
   "id": "53a0c9df-eb31-4d54-bf18-d49557d97d71",
   "metadata": {},
   "outputs": [
    {
     "name": "stdout",
     "output_type": "stream",
     "text": [
      "[2, 4, 6, 8, 10, 12, 14, 16, 18, 20, 22, 24, 26, 28, 30, 32, 34, 36, 38, 40, 42, 44, 46, 48, 50, 52, 54, 56, 58, 60, 62, 64, 66, 68, 70, 72, 74, 76, 78, 80, 82, 84, 86, 88, 90, 92, 94, 96, 98, 100, 102, 104, 106, 108, 110, 112, 114, 116, 118, 120, 122, 124, 126, 128, 130, 132, 134, 136, 138, 140, 142, 144, 146, 148, 150, 152, 154, 156, 158, 160, 162, 164, 166, 168, 170, 172, 174, 176, 178, 180, 182, 184, 186, 188, 190, 192, 194, 196, 198]\n"
     ]
    }
   ],
   "source": [
    "print(numeros)"
   ]
  },
  {
   "cell_type": "markdown",
   "id": "ab01fee9-b1ad-4732-ba40-cb0667ba2a62",
   "metadata": {},
   "source": [
    "= é atribuição\n",
    "== igualdade\n",
    "range é uma função que gera sequencia de numeros \n",
    "função é um bloco de codigo que executa uma tarefa especifica, normalmente entre ( ) "
   ]
  },
  {
   "cell_type": "code",
   "execution_count": 8,
   "id": "0cb10020-e0b1-4d00-af16-3a662377d515",
   "metadata": {},
   "outputs": [
    {
     "name": "stdout",
     "output_type": "stream",
     "text": [
      "[4, 8, 12, 16, 20, 24, 28, 32, 36, 40, 44, 48, 52, 56, 60, 64, 68, 72, 76, 80, 84, 88, 92, 96, 100]\n"
     ]
    }
   ],
   "source": [
    "# Criando a lista de 1 a 100\n",
    "numeros = list(range(1, 101))\n",
    "\n",
    "# Filtrando apenas os números pares divisíveis por 4\n",
    "pares_div4 = [n for n in numeros if n % 2 == 0 and n % 4 == 0]\n",
    "\n",
    "# Mostrando o resultado\n",
    "print(pares_div4)\n"
   ]
  },
  {
   "cell_type": "markdown",
   "id": "6f8ed318-5348-4c7b-bd28-3a83ec074e24",
   "metadata": {},
   "source": [
    "# Fim"
   ]
  },
  {
   "cell_type": "code",
   "execution_count": null,
   "id": "57fec58e-5d40-4d92-8cfe-34ad93c55dfe",
   "metadata": {},
   "outputs": [],
   "source": []
  }
 ],
 "metadata": {
  "kernelspec": {
   "display_name": "Python 3 (ipykernel)",
   "language": "python",
   "name": "python3"
  },
  "language_info": {
   "codemirror_mode": {
    "name": "ipython",
    "version": 3
   },
   "file_extension": ".py",
   "mimetype": "text/x-python",
   "name": "python",
   "nbconvert_exporter": "python",
   "pygments_lexer": "ipython3",
   "version": "3.13.4"
  }
 },
 "nbformat": 4,
 "nbformat_minor": 5
}
